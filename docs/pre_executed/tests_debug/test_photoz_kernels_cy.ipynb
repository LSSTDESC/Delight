{
 "cells": [
  {
   "cell_type": "code",
   "execution_count": null,
   "id": "2196b877-b97c-42a6-a2dc-3101dd88715e",
   "metadata": {},
   "outputs": [],
   "source": []
  },
  {
   "cell_type": "code",
   "execution_count": null,
   "id": "9105b02b-6f45-49bf-92d6-acb71a5cd200",
   "metadata": {
    "tags": []
   },
   "outputs": [],
   "source": [
    "import numpy as np\n",
    "from delight.utils import *\n",
    "from delight.photoz_kernels_cy import \\\n",
    "    kernelparts, kernelparts_diag, kernel_parts_interp\n",
    "from delight.utils_cy import find_positions\n",
    "\n",
    "size = 50\n",
    "nz = 150\n",
    "numBands = 2\n",
    "numLines = 5\n",
    "numCoefs = 10\n",
    "relative_accuracy = 0.1"
   ]
  },
  {
   "cell_type": "markdown",
   "id": "37d0bc9f-c2ca-4f1d-af96-dd55f96440ca",
   "metadata": {},
   "source": [
    "## test_diagonalOfKernels"
   ]
  },
  {
   "cell_type": "code",
   "execution_count": null,
   "id": "206da675-86d6-43c8-8044-1ddc21657c82",
   "metadata": {
    "tags": []
   },
   "outputs": [],
   "source": [
    "def test_diagonalOfKernels():\n",
    "    \"\"\"\n",
    "    Test that diagonal of kernels and derivatives are correct across functions.\n",
    "    \"\"\"\n",
    "    X = random_X_bzl(size, numBands=numBands)\n",
    "    X2 = X\n",
    "\n",
    "    fcoefs_amp, fcoefs_mu, fcoefs_sig = random_filtercoefs(numBands, numCoefs)\n",
    "    lines_mu, lines_sig = random_linecoefs(numLines)\n",
    "    var_C, var_L, alpha_C, alpha_L, alpha_T = random_hyperparams()\n",
    "    norms = np.sqrt(2*np.pi) * np.sum(fcoefs_amp * fcoefs_sig, axis=1)\n",
    "\n",
    "    NO1, NO2 = X.shape[0], X2.shape[0]\n",
    "    b1 = X[:, 0].astype(int)\n",
    "    b2 = X2[:, 0].astype(int)\n",
    "    fz1 = 1 + X[:, 1]\n",
    "    fz2 = 1 + X2[:, 1]\n",
    "    KC, KL \\\n",
    "        = np.zeros((NO1, NO2)), np.zeros((NO1, NO2))\n",
    "    D_alpha_C, D_alpha_L, D_alpha_z \\\n",
    "        = np.zeros((NO1, NO2)), np.zeros((NO1, NO2)), np.zeros((NO1, NO2))\n",
    "    kernelparts(NO1, NO2, numCoefs, numLines,\n",
    "                alpha_C, alpha_L,\n",
    "                fcoefs_amp, fcoefs_mu, fcoefs_sig,\n",
    "                lines_mu[:numLines], lines_sig[:numLines], norms,\n",
    "                b1, fz1, b2, fz2, True,\n",
    "                KL, KC,\n",
    "                D_alpha_C, D_alpha_L, D_alpha_z)\n",
    "\n",
    "    KC_diag, KL_diag\\\n",
    "        = np.zeros((NO1,)), np.zeros((NO1,))\n",
    "    D_alpha_C_diag, D_alpha_L_diag = np.zeros((NO1,)), np.zeros((NO1,))\n",
    "    kernelparts_diag(NO1, numCoefs, numLines,\n",
    "                     alpha_C, alpha_L,\n",
    "                     fcoefs_amp, fcoefs_mu, fcoefs_sig,\n",
    "                     lines_mu[:numLines], lines_sig[:numLines], norms,\n",
    "                     b1, fz1, True, KL_diag, KC_diag,\n",
    "                     D_alpha_C_diag, D_alpha_L_diag)\n",
    "\n",
    "    np.testing.assert_almost_equal(KL_diag, np.diag(KL))\n",
    "    np.testing.assert_almost_equal(KC_diag, np.diag(KC))\n",
    "    np.testing.assert_almost_equal(D_alpha_C_diag, np.diag(D_alpha_C))\n",
    "    np.testing.assert_almost_equal(D_alpha_L_diag, np.diag(D_alpha_L))"
   ]
  },
  {
   "cell_type": "code",
   "execution_count": null,
   "id": "b709d76a-e13d-4c8e-a4c2-4f0f2d1d3f55",
   "metadata": {
    "tags": []
   },
   "outputs": [],
   "source": [
    "test_diagonalOfKernels()"
   ]
  },
  {
   "cell_type": "markdown",
   "id": "fc8fe8fe-cdb1-46a0-a677-976d5409624f",
   "metadata": {},
   "source": [
    "## test_find_positions"
   ]
  },
  {
   "cell_type": "code",
   "execution_count": null,
   "id": "e58194da-08be-4e33-861a-8ba79218a163",
   "metadata": {
    "tags": []
   },
   "outputs": [],
   "source": [
    "def test_find_positions():\n",
    "    a = np.array([0., 1., 2., 3., 4.])\n",
    "    b = np.array([0.5, 2.5, 3.0, 3.1, 4.0])\n",
    "    pos = np.zeros(b.size, dtype=np.longlong)\n",
    "    find_positions(b.size, a.size, b, pos, a)\n",
    "    np.testing.assert_almost_equal(pos, [0, 2, 2, 3, 3])"
   ]
  },
  {
   "cell_type": "code",
   "execution_count": null,
   "id": "b9ffd3e9-7d75-4ec5-bc25-8104117635c7",
   "metadata": {
    "tags": []
   },
   "outputs": [],
   "source": [
    "test_find_positions()"
   ]
  },
  {
   "cell_type": "code",
   "execution_count": null,
   "id": "36573fae-1233-4249-8aec-0e6bfa8f7281",
   "metadata": {},
   "outputs": [],
   "source": []
  },
  {
   "cell_type": "code",
   "execution_count": null,
   "id": "a9294056-92bb-4873-b52f-d9d5311f42ac",
   "metadata": {},
   "outputs": [],
   "source": [
    "\n",
    "def test_kernel_parts_interp():\n",
    "\n",
    "    fcoefs_amp, fcoefs_mu, fcoefs_sig = random_filtercoefs(numBands, numCoefs)\n",
    "    lines_mu, lines_sig = random_linecoefs(numLines)\n",
    "    var_C, var_L, alpha_C, alpha_L, alpha_T = random_hyperparams()\n",
    "    norms = np.sqrt(2*np.pi) * np.sum(fcoefs_amp * fcoefs_sig, axis=1)\n",
    "\n",
    "    zgrid = np.linspace(0, 3, num=nz)\n",
    "    opzgrid = 1 + zgrid\n",
    "\n",
    "    KC_grid, KL_grid =\\\n",
    "        np.zeros((numBands, numBands, nz, nz)),\\\n",
    "        np.zeros((numBands, numBands, nz, nz))\n",
    "    D_alpha_C_grid, D_alpha_L_grid, D_alpha_z_grid =\\\n",
    "        np.zeros((numBands, numBands, nz, nz)),\\\n",
    "        np.zeros((numBands, numBands, nz, nz)),\\\n",
    "        np.zeros((numBands, numBands, nz, nz))\n",
    "    for ib1 in range(numBands):\n",
    "        for ib2 in range(numBands):\n",
    "            b1 = np.repeat(ib1, nz)\n",
    "            b2 = np.repeat(ib2, nz)\n",
    "            fz1 = 1 + zgrid\n",
    "            fz2 = 1 + zgrid\n",
    "            kernelparts(nz, nz, numCoefs, numLines,\n",
    "                        alpha_C, alpha_L,\n",
    "                        fcoefs_amp, fcoefs_mu, fcoefs_sig,\n",
    "                        lines_mu[:numLines], lines_sig[:numLines], norms,\n",
    "                        b1, fz1, b2, fz2, True,\n",
    "                        KL_grid[ib1, ib2, :, :], KC_grid[ib1, ib2, :, :],\n",
    "                        D_alpha_C_grid[ib1, ib2, :, :],\n",
    "                        D_alpha_L_grid[ib1, ib2, :, :],\n",
    "                        D_alpha_z_grid[ib1, ib2, :, :])\n",
    "\n",
    "    Xrand = random_X_bzl(size, numBands=numBands)\n",
    "    X2rand = random_X_bzl(size, numBands=numBands)\n",
    "    NO1, NO2 = Xrand.shape[0], X2rand.shape[0]\n",
    "    b1 = Xrand[:, 0].astype(int)\n",
    "    b2 = X2rand[:, 0].astype(int)\n",
    "    fz1 = 1 + Xrand[:, 1]\n",
    "    fz2 = 1 + X2rand[:, 1]\n",
    "\n",
    "    KC_rand, KL_rand =\\\n",
    "        np.zeros((NO1, NO2)),\\\n",
    "        np.zeros((NO1, NO2))\n",
    "    D_alpha_C_rand, D_alpha_L_rand, D_alpha_z_rand =\\\n",
    "        np.zeros((NO1, NO2)),\\\n",
    "        np.zeros((NO1, NO2)),\\\n",
    "        np.zeros((NO1, NO2))\n",
    "    kernelparts(NO1, NO2, numCoefs, numLines,\n",
    "                alpha_C, alpha_L,\n",
    "                fcoefs_amp, fcoefs_mu, fcoefs_sig,\n",
    "                lines_mu[:numLines], lines_sig[:numLines], norms,\n",
    "                b1, fz1, b2, fz2, True,\n",
    "                KL_rand, KC_rand,\n",
    "                D_alpha_C_rand, D_alpha_L_rand, D_alpha_z_rand)\n",
    "\n",
    "    p1s = np.zeros(size, dtype=int)\n",
    "    p2s = np.zeros(size, dtype=int)\n",
    "    find_positions(size, nz, fz1, p1s, opzgrid)\n",
    "    find_positions(size, nz, fz2, p2s, opzgrid)\n",
    "\n",
    "    KC_interp, KL_interp =\\\n",
    "        np.zeros((NO1, NO2)),\\\n",
    "        np.zeros((NO1, NO2))\n",
    "    KC_diag_interp, KL_diag_interp =\\\n",
    "        np.zeros((NO1, )),\\\n",
    "        np.zeros((NO1, ))\n",
    "    D_alpha_C_interp, D_alpha_L_interp, D_alpha_z_interp =\\\n",
    "        np.zeros((NO1, NO2)),\\\n",
    "        np.zeros((NO1, NO2)),\\\n",
    "        np.zeros((NO1, NO2))\n",
    "\n",
    "    kernel_parts_interp(size, size,\n",
    "                        KC_interp,\n",
    "                        b1, fz1, p1s,\n",
    "                        b2, fz2, p2s,\n",
    "                        opzgrid, KC_grid)\n",
    "    print(np.abs(KC_interp/KC_rand - 1))\n",
    "    assert np.mean(np.abs(KC_interp/KC_rand - 1)) < relative_accuracy\n",
    "    assert np.max(np.abs(KC_interp/KC_rand - 1)) < relative_accuracy\n",
    "\n",
    "    kernel_parts_interp(size, size,\n",
    "                        D_alpha_C_interp,\n",
    "                        b1, fz1, p1s,\n",
    "                        b2, fz2, p2s,\n",
    "                        opzgrid, D_alpha_C_grid)\n",
    "    print(np.abs(D_alpha_C_interp/D_alpha_C_rand - 1))\n",
    "    assert np.mean(np.abs(D_alpha_C_interp/D_alpha_C_rand - 1))\\\n",
    "        < relative_accuracy\n",
    "    assert np.max(np.abs(D_alpha_C_interp/D_alpha_C_rand - 1))\\\n",
    "        < relative_accuracy\n"
   ]
  }
 ],
 "metadata": {
  "kernelspec": {
   "display_name": "Python 3 (ipykernel)",
   "language": "python",
   "name": "python3"
  },
  "language_info": {
   "codemirror_mode": {
    "name": "ipython",
    "version": 3
   },
   "file_extension": ".py",
   "mimetype": "text/x-python",
   "name": "python",
   "nbconvert_exporter": "python",
   "pygments_lexer": "ipython3",
   "version": "3.11.5"
  }
 },
 "nbformat": 4,
 "nbformat_minor": 5
}
