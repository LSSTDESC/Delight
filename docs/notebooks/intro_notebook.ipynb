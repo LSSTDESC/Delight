{
 "cells": [
  {
   "cell_type": "markdown",
   "id": "textblock1",
   "metadata": {
    "cell_marker": "\"\"\""
   },
   "source": [
    "# Introduction to Delight tutorials\n",
    "\n",
    "- creation date : 2024-10-24 (Sylvie Dagoret-Campagne)"
   ]
  },
  {
   "cell_type": "markdown",
   "id": "ee39562b-d390-4190-ae10-e9f10bfeb5b7",
   "metadata": {},
   "source": [
    "## Very fist basic tutorial"
   ]
  },
  {
   "cell_type": "markdown",
   "id": "31a53902-553e-4f61-a909-99a99ee976c5",
   "metadata": {},
   "source": [
    "- [First tutorial](Tutorial-getting-started-with-Delight.ipynb)"
   ]
  },
  {
   "cell_type": "code",
   "execution_count": null,
   "id": "ec24da31-0f2e-4454-ac03-5e9b92eed9c8",
   "metadata": {},
   "outputs": [],
   "source": []
  }
 ],
 "metadata": {
  "jupytext": {
   "cell_markers": "\"\"\""
  },
  "kernelspec": {
   "display_name": "Python 3 (ipykernel)",
   "language": "python",
   "name": "python3"
  },
  "language_info": {
   "codemirror_mode": {
    "name": "ipython",
    "version": 3
   },
   "file_extension": ".py",
   "mimetype": "text/x-python",
   "name": "python",
   "nbconvert_exporter": "python",
   "pygments_lexer": "ipython3",
   "version": "3.11.10"
  }
 },
 "nbformat": 4,
 "nbformat_minor": 5
}
