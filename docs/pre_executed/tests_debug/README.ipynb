{
 "cells": [
  {
   "cell_type": "markdown",
   "id": "d9f8920d-cade-4b49-a9e3-dc729afdcda3",
   "metadata": {},
   "source": [
    "# README.md\n",
    "\n",
    "Folder to develop test for Delight experts or maintainers"
   ]
  },
  {
   "cell_type": "markdown",
   "id": "a1f0a44e-f1b3-491f-8fa3-41e83c6a1744",
   "metadata": {},
   "source": [
    "- author : Sylvie Dagoret-Campagne\n",
    "- affiliation : IJCLab/IN2p3/CNRS\n",
    "- creation date : 2024/10/24"
   ]
  },
  {
   "cell_type": "markdown",
   "id": "5f91eb8f-dc95-4729-b64c-9f82ca5aeaa9",
   "metadata": {},
   "source": [
    "## List of tests notebooks"
   ]
  },
  {
   "cell_type": "markdown",
   "id": "f0b1264a-d4e6-4fa6-bf43-a0221a7bf075",
   "metadata": {},
   "source": [
    "- [Notebook to test test_photoz_kernels.py](test_photoz_kernels.ipynb)\n",
    "\n",
    "\n",
    "Note there is a bug in the $test_meanfunction()$ function, the assert result is wrong. S"
   ]
  },
  {
   "cell_type": "markdown",
   "id": "4731a88f-6110-461f-aa9e-2b07cdf96f72",
   "metadata": {},
   "source": [
    "- [Notebook to test test_photoz_kernels_cy.py](test_photoz_kernels_cy.ipynb)"
   ]
  },
  {
   "cell_type": "code",
   "execution_count": null,
   "id": "c4fa8c64-44af-49dd-8d3d-131c42c32f8a",
   "metadata": {},
   "outputs": [],
   "source": []
  }
 ],
 "metadata": {
  "kernelspec": {
   "display_name": "conda_py311",
   "language": "python",
   "name": "conda_py311"
  },
  "language_info": {
   "codemirror_mode": {
    "name": "ipython",
    "version": 3
   },
   "file_extension": ".py",
   "mimetype": "text/x-python",
   "name": "python",
   "nbconvert_exporter": "python",
   "pygments_lexer": "ipython3",
   "version": "3.11.10"
  }
 },
 "nbformat": 4,
 "nbformat_minor": 5
}
