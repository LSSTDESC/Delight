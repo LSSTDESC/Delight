{
 "cells": [
  {
   "cell_type": "code",
   "execution_count": null,
   "id": "b0582663-c2cf-4532-bb4c-7e18ea028bb5",
   "metadata": {},
   "outputs": [],
   "source": [
    "import jax.numpy as jnp\n",
    "from delight.utils_jx import find_positions,bilininterp_precomputedbins"
   ]
  },
  {
   "cell_type": "code",
   "execution_count": null,
   "id": "6b962694-96af-4f9b-a57e-4dc1fef4bb30",
   "metadata": {},
   "outputs": [],
   "source": [
    "from jax import vmap"
   ]
  },
  {
   "cell_type": "markdown",
   "id": "eb4750f9-9d62-4115-a43a-93c4370704d1",
   "metadata": {},
   "source": [
    "## find_positions"
   ]
  },
  {
   "cell_type": "code",
   "execution_count": null,
   "id": "abcd637a-53f2-4e57-99e2-d9d1e56de7e8",
   "metadata": {},
   "outputs": [],
   "source": [
    "# Exemple d'utilisation\n",
    "fz1 = jnp.array([0.5, 1.5, 2.5])\n",
    "fzGrid = jnp.array([0.0, 1.0, 2.0, 3.0])\n",
    "positions = find_positions(fz1, fzGrid)\n",
    "print(positions)"
   ]
  },
  {
   "cell_type": "markdown",
   "id": "a7e03bc8-31b8-4c88-9795-5ebbc4822a46",
   "metadata": {},
   "source": [
    "## bilininterp_precomputedbins"
   ]
  },
  {
   "cell_type": "code",
   "execution_count": null,
   "id": "b6bab371-cb7e-48ab-9655-2ea484d82b09",
   "metadata": {},
   "outputs": [],
   "source": [
    "# Example usage\n",
    "numBands = 3\n",
    "nobj = 2\n",
    "#numBands = jnp.array(3)  # Dimension statique\n",
    "#nobj = jnp.array(2)      # Dimension statique\n",
    "\n",
    "\n",
    "Kinterp = jnp.zeros((numBands, nobj))\n",
    "v1s = jnp.array([0.5, 1.5])\n",
    "v2s = jnp.array([0.5, 1.5])\n",
    "p1s = jnp.array([0, 1])\n",
    "p2s = jnp.array([0, 1])\n",
    "grid1 = jnp.array([0.0, 1.0, 2.0])\n",
    "grid2 = jnp.array([0.0, 1.0, 2.0])\n",
    "Kgrid = jnp.array([\n",
    "    [[1.0, 2.0], [3.0, 4.0]],\n",
    "    [[1.5, 2.5], [3.5, 4.5]],\n",
    "    [[2.0, 3.0], [4.0, 5.0]]\n",
    "])\n",
    "\n",
    "Kinterp = bilininterp_precomputedbins(numBands, nobj, Kinterp, v1s, v2s, p1s, p2s, grid1, grid2, Kgrid)\n",
    "print(Kinterp)"
   ]
  },
  {
   "cell_type": "code",
   "execution_count": null,
   "id": "d60f1dc3-3c81-4462-a8cf-2862acf52136",
   "metadata": {},
   "outputs": [],
   "source": []
  }
 ],
 "metadata": {
  "kernelspec": {
   "display_name": "py311_rail",
   "language": "python",
   "name": "py311_rail"
  },
  "language_info": {
   "codemirror_mode": {
    "name": "ipython",
    "version": 3
   },
   "file_extension": ".py",
   "mimetype": "text/x-python",
   "name": "python",
   "nbconvert_exporter": "python",
   "pygments_lexer": "ipython3",
   "version": "3.11.10"
  }
 },
 "nbformat": 4,
 "nbformat_minor": 5
}
