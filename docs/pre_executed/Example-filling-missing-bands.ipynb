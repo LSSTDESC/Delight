{
 "cells": [
  {
   "cell_type": "markdown",
   "metadata": {},
   "source": [
    "# Tutorial: filling in missing bands"
   ]
  },
  {
   "cell_type": "markdown",
   "metadata": {},
   "source": [
    "- last verification date : 2024-10-24 (Sylvie dagoret-Campagne)\n",
    "- Must run this notebook from `docs/pre-executed` folder\n",
    "- NOT DEBUGGED"
   ]
  },
  {
   "cell_type": "markdown",
   "metadata": {},
   "source": [
    "We will use the parameter file \"tests_nb/parametersTest.cfg\".\n",
    "This contains a description of the bands and data to be used.\n",
    "In this example we will generate mock data for the ugriz SDSS bands,\n",
    "fit each object with our GP using ugi bands only and see how it predicts the rz bands.\n",
    "This is an example for filling in/predicting missing bands in a fully bayesian way\n",
    "with a flexible SED model quickly via our photo-z GP."
   ]
  },
  {
   "cell_type": "code",
   "execution_count": null,
   "metadata": {
    "tags": []
   },
   "outputs": [],
   "source": [
    "%matplotlib inline\n",
    "import numpy as np\n",
    "import matplotlib.pyplot as plt\n",
    "import scipy.stats\n",
    "import sys,os\n",
    "sys.path.append('../..')\n",
    "from delight.io import *\n",
    "from delight.utils import *\n",
    "from delight.photoz_gp import PhotozGP"
   ]
  },
  {
   "cell_type": "markdown",
   "metadata": {},
   "source": [
    "## Specifying were are the data file used for input outout"
   ]
  },
  {
   "cell_type": "code",
   "execution_count": null,
   "metadata": {
    "collapsed": false,
    "jupyter": {
     "outputs_hidden": false
    }
   },
   "outputs": [],
   "source": [
    "# path of the config parameter file\n",
    "param_path = \"tests_nb\"\n",
    "# path where the input fluxes file are generated including the Kerenl gaussian process file generated\n",
    "data_path = \"data_nb\""
   ]
  },
  {
   "cell_type": "code",
   "execution_count": null,
   "metadata": {},
   "outputs": [],
   "source": [
    "if not os.path.exists(data_path):\n",
    "    os.mkdir(data_path)\n",
    "if not os.path.exists(param_path):\n",
    "    os.mkdir(param_path)"
   ]
  },
  {
   "cell_type": "markdown",
   "metadata": {},
   "source": [
    "## Creating the parameter file\n",
    "Let's create a parameter file from scratch."
   ]
  },
  {
   "cell_type": "code",
   "execution_count": null,
   "metadata": {},
   "outputs": [],
   "source": [
    "paramfile_txt = \"\"\"\n",
    "# DELIGHT parameter file\n",
    "# Syntactic rules:\n",
    "# - You can set parameters with : or =\n",
    "# - Lines starting with # or ; will be ignored\n",
    "# - Multiple values (band names, band orders, confidence levels)\n",
    "#   must beb separated by spaces\n",
    "# - The input files should contain numbers separated with spaces.\n",
    "# - underscores mean unused column\n",
    "\"\"\""
   ]
  },
  {
   "cell_type": "markdown",
   "metadata": {},
   "source": [
    "### 1) Specifying the Filters used for the photometric survey"
   ]
  },
  {
   "cell_type": "code",
   "execution_count": null,
   "metadata": {},
   "outputs": [],
   "source": [
    "paramfile_txt += \"\"\"\n",
    "[Bands]\n",
    "names: U_SDSS G_SDSS R_SDSS I_SDSS Z_SDSS\n",
    "directory: ../../data/FILTERS\n",
    "bands_fmt: res\n",
    "numCoefs: 7\n",
    "bands_verbose: True\n",
    "bands_debug: True\n",
    "bands_makeplots: False\n",
    "\"\"\""
   ]
  },
  {
   "cell_type": "markdown",
   "metadata": {},
   "source": [
    "### 2) Specifying the SED templates used"
   ]
  },
  {
   "cell_type": "code",
   "execution_count": null,
   "metadata": {},
   "outputs": [],
   "source": [
    "paramfile_txt += \"\"\"\n",
    "[Templates]\n",
    "directory: ../../data/CWW_SEDs\n",
    "sed_fmt: dat\n",
    "names: El_B2004a Sbc_B2004a Scd_B2004a SB3_B2004a SB2_B2004a Im_B2004a ssp_25Myr_z008 ssp_5Myr_z008\n",
    "p_t: 0.27 0.26 0.25 0.069 0.021 0.11 0.0061 0.0079\n",
    "p_z_t:0.23 0.39 0.33 0.31 1.1 0.34 1.2 0.14\n",
    "lambdaRef: 4.5e3\n",
    "\"\"\""
   ]
  },
  {
   "cell_type": "markdown",
   "metadata": {},
   "source": [
    "### 3) Specifying the training and target photometric catalogs"
   ]
  },
  {
   "cell_type": "code",
   "execution_count": null,
   "metadata": {},
   "outputs": [],
   "source": [
    "paramfile_txt += \"\"\"\n",
    "[Simulation]\n",
    "numObjects: 1000\n",
    "noiseLevel: 0.03\n",
    "trainingFile: ./data_nb/galaxies-fluxredshifts.txt\n",
    "targetFile: ./data_nb/galaxies-fluxredshifts2.txt\n",
    "\"\"\""
   ]
  },
  {
   "cell_type": "markdown",
   "metadata": {},
   "source": [
    "#### 3.a Config for the simulation of the training catalog"
   ]
  },
  {
   "cell_type": "code",
   "execution_count": null,
   "metadata": {},
   "outputs": [],
   "source": [
    "paramfile_txt += \"\"\"\n",
    "[Training]\n",
    "catFile: ./data_nb/galaxies-fluxredshifts.txt\n",
    "bandOrder: U_SDSS U_SDSS_var G_SDSS G_SDSS_var _ _ I_SDSS I_SDSS_var _ _ redshift\n",
    "referenceBand: I_SDSS\n",
    "extraFracFluxError: 1e-4\n",
    "paramFile: ./data_nb/galaxies-gpparams.txt\n",
    "crossValidate: True\n",
    "CVfile: ./data_nb/galaxies-gpCV.txt\n",
    "crossValidationBandOrder: _ _ _ _ R_SDSS R_SDSS_var _ _ Z_SDSS Z_SDSS_var redshift\n",
    "numChunks: 1\n",
    "\"\"\""
   ]
  },
  {
   "cell_type": "markdown",
   "metadata": {},
   "source": [
    "#### 3.b Config for the simulation of the target catalog"
   ]
  },
  {
   "cell_type": "code",
   "execution_count": null,
   "metadata": {},
   "outputs": [],
   "source": [
    "paramfile_txt += \"\"\"\n",
    "[Target]\n",
    "catFile: ./data_nb/galaxies-fluxredshifts2.txt\n",
    "bandOrder: U_SDSS U_SDSS_var G_SDSS G_SDSS_var _ _ I_SDSS I_SDSS_var _ _ redshift\n",
    "referenceBand: I_SDSS\n",
    "extraFracFluxError: 1e-4\n",
    "redshiftpdfFile: ./data_nb/galaxies-redshiftpdfs.txt\n",
    "redshiftpdfFileTemp: ./data_nb/galaxies-redshiftpdfs-cww.txt\n",
    "metricsFile:  ./data_nb/galaxies-redshiftmetrics.txt\n",
    "metricsFileTemp:  ./data_nb/galaxies-redshiftmetrics-cww.txt\n",
    "useCompression: False\n",
    "Ncompress: 10\n",
    "compressIndicesFile: ./data_nb/galaxies-compressionIndices.txt\n",
    "compressMargLikFile: ./data_nb/galaxies-compressionMargLikes.txt\n",
    "redshiftpdfFileComp: ./data_nb/galaxies-redshiftpdfs-comp.txt\n",
    "\"\"\""
   ]
  },
  {
   "cell_type": "markdown",
   "metadata": {},
   "source": [
    "### 4) Specifying the hyper-parameters of the Gaussian Process fitting"
   ]
  },
  {
   "cell_type": "code",
   "execution_count": null,
   "metadata": {},
   "outputs": [],
   "source": [
    "paramfile_txt += \"\"\"\n",
    "[Other]\n",
    "rootDir: ./\n",
    "zPriorSigma: 0.2\n",
    "ellPriorSigma: 0.5\n",
    "fluxLuminosityNorm: 1.0\n",
    "alpha_C: 1.0e3\n",
    "V_C: 0.1\n",
    "alpha_L: 1.0e2\n",
    "V_L: 0.1\n",
    "lines_pos: 6500 5002.26 3732.22\n",
    "lines_width: 20.0 20.0 20.0\n",
    "redshiftMin: 0.1\n",
    "redshiftMax: 1.101\n",
    "redshiftNumBinsGPpred: 100\n",
    "redshiftBinSize: 0.001\n",
    "redshiftDisBinSize: 0.2\n",
    "confidenceLevels: 0.1 0.50 0.68 0.95\n",
    "\"\"\""
   ]
  },
  {
   "cell_type": "markdown",
   "metadata": {},
   "source": [
    "Let's write this to a file."
   ]
  },
  {
   "cell_type": "code",
   "execution_count": null,
   "metadata": {},
   "outputs": [],
   "source": [
    "with open('./tests_nb/parametersTest.cfg','w') as out:\n",
    "    out.write(paramfile_txt)"
   ]
  },
  {
   "cell_type": "code",
   "execution_count": null,
   "metadata": {},
   "outputs": [],
   "source": [
    "from delight.io import parseParamFile\n",
    "params = parseParamFile('./tests_nb/parametersTest.cfg', verbose=False)"
   ]
  },
  {
   "cell_type": "code",
   "execution_count": null,
   "metadata": {},
   "outputs": [],
   "source": [
    "params['training_CV_bandOrder']"
   ]
  },
  {
   "cell_type": "markdown",
   "metadata": {},
   "source": [
    "# Running Delight"
   ]
  },
  {
   "cell_type": "code",
   "execution_count": null,
   "metadata": {
    "collapsed": false,
    "jupyter": {
     "outputs_hidden": false
    }
   },
   "outputs": [],
   "source": [
    "# First, we must fit the band filters with a gaussian mixture. \n",
    "# This is done with this script:\n",
    "%run ../../scripts/processFilters.py ./tests_nb/parametersTest.cfg"
   ]
  },
  {
   "cell_type": "code",
   "execution_count": null,
   "metadata": {
    "collapsed": false,
    "jupyter": {
     "outputs_hidden": false
    }
   },
   "outputs": [],
   "source": [
    "# Second, we will process the library of SEDs and project them onto the filters,\n",
    "# (for the mean fct of the GP) with the following script:\n",
    "%run ../../scripts/processSEDs.py ./tests_nb/parametersTest.cfg"
   ]
  },
  {
   "cell_type": "code",
   "execution_count": null,
   "metadata": {
    "collapsed": false,
    "jupyter": {
     "outputs_hidden": false
    }
   },
   "outputs": [],
   "source": [
    "# Third, we will make some mock data with those filters and SEDs:\n",
    "%run ../../scripts/simulateWithSEDs.py ./tests_nb/parametersTest.cfg"
   ]
  },
  {
   "cell_type": "code",
   "execution_count": null,
   "metadata": {
    "collapsed": false,
    "jupyter": {
     "outputs_hidden": false
    }
   },
   "outputs": [],
   "source": [
    "# Now we load the parameter file and the useful quantities\n",
    "params = parseParamFile('./tests_nb/parametersTest.cfg', verbose=False)\n",
    "bandCoefAmplitudes, bandCoefPositions, bandCoefWidths, norms\\\n",
    "    = readBandCoefficients(params)\n",
    "bandNames = params['bandNames']\n",
    "numBands, numCoefs = bandCoefAmplitudes.shape\n",
    "redshiftDistGrid, redshiftGrid, redshiftGridGP = createGrids(params)\n",
    "f_mod = readSEDs(params) # Reads the SED library.\n",
    "numObjectsTraining = np.sum(1 for line in open(params['training_catFile']))\n",
    "print('Number of Training Objects', numObjectsTraining)"
   ]
  },
  {
   "cell_type": "code",
   "execution_count": null,
   "metadata": {},
   "outputs": [],
   "source": [
    "# Create the GP (create interpolation grid for kernel + other internal stuff). May take a while.\n",
    "gp = PhotozGP(f_mod, bandCoefAmplitudes, bandCoefPositions, bandCoefWidths,\n",
    "              params['lines_pos'], params['lines_width'],\n",
    "              params['V_C'], params['V_L'],\n",
    "              params['alpha_C'], params['alpha_L'],\n",
    "              redshiftGridGP, use_interpolators=True)"
   ]
  },
  {
   "cell_type": "code",
   "execution_count": null,
   "metadata": {
    "collapsed": false,
    "jupyter": {
     "outputs_hidden": false
    }
   },
   "outputs": [],
   "source": [
    "# Load useful quantities for the training set.\n",
    "# \"CV\" means quantities for the bands used for cross-validation.\n",
    "# In this example we will drop a couple of bands in the training data \n",
    "# and use them for cross-validation, as shown in the parameter file.\n",
    "bandIndicesCV, bandNamesCV, bandColumnsCV,\\\n",
    "    bandVarColumnsCV, redshiftColumnCV =\\\n",
    "    readColumnPositions(params, prefix=\"training_CV_\", refFlux=False)\n",
    "numBandsCV = bandIndicesCV.size"
   ]
  },
  {
   "cell_type": "code",
   "execution_count": null,
   "metadata": {},
   "outputs": [],
   "source": [
    "print(\"bandIndicesCV:\",bandIndicesCV,\"bandNamesCV:\",bandNamesCV,\"bandColumnsCV:\",bandColumnsCV)\n",
    "print(\"bandVarColumnsCV:\",\"bandVarColumnsCV:\",bandVarColumnsCV, \"redshiftColumnCV:\",redshiftColumnCV)"
   ]
  },
  {
   "cell_type": "code",
   "execution_count": null,
   "metadata": {
    "collapsed": false,
    "jupyter": {
     "outputs_hidden": false
    }
   },
   "outputs": [],
   "source": [
    "# Loop and parse the training set, fit the GP to the deep bands, \n",
    "# and run cross-validation against the cross-validation bands.\n",
    "# We will store a bunch of things, including the chi2 of the fit.\n",
    "numZ = redshiftGrid.size\n",
    "all_z = np.zeros((numObjectsTraining, ))\n",
    "all_fluxes = np.zeros((numObjectsTraining, numBands))\n",
    "all_fluxes_var = np.zeros((numObjectsTraining, numBands))\n",
    "all_fluxesCV = np.zeros((numObjectsTraining, numBands))\n",
    "all_fluxesCV_var = np.zeros((numObjectsTraining, numBands))\n",
    "all_chi2s = np.zeros((numObjectsTraining, numBandsCV))\n",
    "all_bestTypes = np.zeros((numObjectsTraining, ), dtype=int)\n",
    "\n",
    "loc = - 1\n",
    "trainingDataIter1 = getDataFromFile(params, 0, numObjectsTraining,\n",
    "                                    prefix=\"training_\", getXY=True,\n",
    "                                    CV=True)\n",
    "for z, normedRefFlux,\\\n",
    "    bands, fluxes, fluxesVar,\\\n",
    "    bandsCV, fluxesCV, fluxesVarCV,\\\n",
    "        X, Y, Yvar in trainingDataIter1:\n",
    "    \n",
    "    \n",
    "    if loc<2:\n",
    "        print(loc,\"\\t bandsCV\",bandsCV)\n",
    "    \n",
    "    loc += 1\n",
    "\n",
    "    # Interpolate template library at spectroscopic redshift\n",
    "    themod = np.zeros((1, f_mod.shape[0], bands.size))\n",
    "    for it in range(f_mod.shape[0]):\n",
    "        for ib, band in enumerate(bands):\n",
    "            themod[0, it, ib] = f_mod[it, band](z)\n",
    "    # Run color likelihood to find best template and ML luminosity\n",
    "    chi2_grid, ellMLs = scalefree_flux_likelihood(fluxes, fluxesVar, themod, returnChi2=True)\n",
    "    bestType = np.argmin(chi2_grid)\n",
    "    ell = ellMLs[0, bestType]\n",
    "    # Use them in the GP\n",
    "    X[:, 2] = ell\n",
    "    gp.setData(X, Y, Yvar, bestType)\n",
    "    \n",
    "    # Make predictions for all bands (noiseless) from the GP\n",
    "    model_mean, model_covar\\\n",
    "        = gp.predictAndInterpolate(np.array([z]), ell=ell)\n",
    "    ind = np.array([list(bandIndicesCV).index(b) for b in bandsCV])\n",
    "\n",
    "    print(ind)\n",
    "    # Compute chi2 for SDSS bands\n",
    "    all_chi2s[loc, ind] =\\\n",
    "        (model_mean[0, bandsCV] - fluxesCV)**2 /\\\n",
    "        (model_covar[0, bandsCV] + fluxesVarCV)\n",
    "        \n",
    "    # Store a few useful quantities\n",
    "    all_z[loc] = z\n",
    "    all_bestTypes[loc] = bestType\n",
    "    all_fluxes[loc, bands] = fluxes\n",
    "    all_fluxes_var[loc, bands] = fluxesVar\n",
    "    all_fluxesCV[loc, bandsCV] = fluxesCV\n",
    "    all_fluxesCV_var[loc, bandsCV] = fluxesVarCV"
   ]
  },
  {
   "cell_type": "code",
   "execution_count": null,
   "metadata": {},
   "outputs": [],
   "source": [
    "bandsCV"
   ]
  },
  {
   "cell_type": "code",
   "execution_count": null,
   "metadata": {
    "collapsed": false,
    "jupyter": {
     "outputs_hidden": false
    }
   },
   "outputs": [],
   "source": [
    "# Plot the chi2 distributions for each band (1 degree of freedom)\n",
    "fig, axs = plt.subplots(2, 2, figsize=(6, 4), sharex=True)\n",
    "x = np.linspace(0, 3, 50)\n",
    "for i, ib in enumerate(bandsCV):    \n",
    "    axs[0, i].plot(x, scipy.stats.chi2.pdf(x, 1), 'k')\n",
    "    axs[0, i].hist(all_chi2s[:, i], 20, range=[0, x[-1]], histtype='step', normed=True, lw=1)\n",
    "    axs[1, i].plot(x, scipy.stats.chi2.pdf(x, 1), 'k')\n",
    "    axs[1, i].hist(all_chi2s[:, i], 20, range=[0, x[-1]], histtype='step', normed=True, lw=1)\n",
    "    axs[1, i].set_yscale('log')\n",
    "    axs[1, i].set_xlabel('$\\chi^2$')\n",
    "    axs[0, i].set_title(bandNames[ib])\n",
    "    if i == 0:\n",
    "        axs[0, i].set_ylabel('$F(\\chi^2)$')\n",
    "        axs[1, i].set_ylabel('$\\log_{10}\\ F(\\chi^2)$')\n",
    "    else:\n",
    "        axs[0, i].set_yticks([])\n",
    "        axs[1, i].set_yticks([])\n",
    "fig.tight_layout()"
   ]
  },
  {
   "cell_type": "code",
   "execution_count": null,
   "metadata": {
    "collapsed": true,
    "jupyter": {
     "outputs_hidden": true
    }
   },
   "outputs": [],
   "source": []
  }
 ],
 "metadata": {
  "anaconda-cloud": {},
  "kernelspec": {
   "display_name": "py312_rail",
   "language": "python",
   "name": "py312_rail"
  },
  "language_info": {
   "codemirror_mode": {
    "name": "ipython",
    "version": 3
   },
   "file_extension": ".py",
   "mimetype": "text/x-python",
   "name": "python",
   "nbconvert_exporter": "python",
   "pygments_lexer": "ipython3",
   "version": "3.11.10"
  }
 },
 "nbformat": 4,
 "nbformat_minor": 4
}
