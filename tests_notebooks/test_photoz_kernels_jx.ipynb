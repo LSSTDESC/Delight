{
 "cells": [
  {
   "cell_type": "markdown",
   "id": "2e47eef6-53ac-4538-ae64-c61967eff508",
   "metadata": {},
   "source": [
    "# Test of function implemented in delight.photoz_kernels_jx"
   ]
  },
  {
   "cell_type": "code",
   "execution_count": null,
   "id": "dc6a858a-f62e-426a-8bb9-50ba3c83dc0c",
   "metadata": {},
   "outputs": [],
   "source": [
    "from jax import jit\n",
    "import jax.numpy as jnp\n",
    "from jax import vmap\n",
    "from delight import photoz_kernels_jx\n",
    "from delight.photoz_kernels_jx import kernel_parts_interp_jx,kernelparts_diag_jx, kernelparts_jax"
   ]
  },
  {
   "cell_type": "code",
   "execution_count": null,
   "id": "b23e8e3a-db59-4e4a-b12f-cf5151ee0bd0",
   "metadata": {},
   "outputs": [],
   "source": [
    "dir(photoz_kernels_jx) "
   ]
  },
  {
   "cell_type": "markdown",
   "id": "ed821c19-7134-46f7-8bc3-59edb2ba2702",
   "metadata": {},
   "source": [
    "## kernel_parts_interp"
   ]
  },
  {
   "cell_type": "code",
   "execution_count": null,
   "id": "7b8447e2-2fcf-4369-b8d3-5d44f5161ba7",
   "metadata": {},
   "outputs": [],
   "source": [
    "# Exemple d'appel de la fonction\n",
    "NO1, NO2 = 3, 4\n",
    "Kgrid = jnp.ones((3, 4, 5, 5))  # Exemple de tableau Kgrid 4D\n",
    "b1 = jnp.array([0, 1, 2])\n",
    "fz1 = jnp.array([0.1, 0.2, 0.3])\n",
    "p1s = jnp.array([0, 1, 2])\n",
    "b2 = jnp.array([0, 1, 2, 3])\n",
    "fz2 = jnp.array([0.1, 0.2, 0.3, 0.4])\n",
    "p2s = jnp.array([0, 1, 2, 3])\n",
    "fzGrid = jnp.array([0.0, 0.1, 0.2, 0.3, 0.4, 0.5])\n",
    "\n",
    "# Appel de la fonction jittée\n",
    "result = kernel_parts_interp_jx(NO1, NO2, Kgrid, b1, fz1, p1s, b2, fz2, p2s, fzGrid)\n",
    "print(result)"
   ]
  },
  {
   "cell_type": "code",
   "execution_count": null,
   "id": "2349109a-20fe-4e88-bb09-c9c673eb8732",
   "metadata": {},
   "outputs": [],
   "source": [
    "from jax import random\n",
    "key = random.PRNGKey(758493)  # Random seed is explicit in JAX"
   ]
  },
  {
   "cell_type": "code",
   "execution_count": null,
   "id": "a7ccc757-51fe-4bef-9647-578d31cd6f33",
   "metadata": {},
   "outputs": [],
   "source": [
    "# Exemple d'input pour tester la fonction\n",
    "NO1 = 2\n",
    "NO2 = 2\n",
    "Kinterp = jnp.zeros((NO1, NO2))  # matrice de résultats d'interpolation\n",
    "b1 = jnp.array([0, 1])  # indices pour le premier indice de bande\n",
    "b2 = jnp.array([0, 1])  # indices pour le second indice de bande\n",
    "fz1 = jnp.array([0.5, 1.5])  # positions fz1\n",
    "fz2 = jnp.array([0.5, 1.5])  # positions fz2\n",
    "p1s = jnp.array([0, 1])  # indices p1 pour la grille fz1\n",
    "p2s = jnp.array([0, 1])  # indices p2 pour la grille fz2\n",
    "fzGrid = jnp.array([0.0, 1.0, 2.0])  # la grille fz\n",
    "\n",
    "# Kgrid est bien de 4 D : (numBands1, self.numBands2, nz1, nz2)\n",
    "\n",
    "\n",
    "#Kgrid = jnp.array([\n",
    "#    [[1.0, 2.0], [3.0, 4.0]],\n",
    "#    [[1.5, 2.5], [3.5, 4.5]],\n",
    "#    [[2.0, 3.0], [4.0, 5.0]]\n",
    "#])  # Kgrid avec dimensions nbands x ngridz1 x ngridz2\n",
    "\n",
    "Kgrid_flat  =  random.uniform(key, shape=(len(b1)*len(b2)*len(fz1)*len(fz2),))\n",
    "Kgrid = Kgrid_flat.reshape(len(b1),len(b2),len(fz1),len(fz2))\n",
    "\n",
    "Kgrid = jnp.array([[[[1.0, 2.0], [3.0, 4.0]], [[5.0, 6.0], [7.0, 8.0]]],\n",
    "                       [[[9.0, 10.0], [11.0, 12.0]], [[13.0, 14.0], [15.0, 16.0]]],\n",
    "                       [[[17.0, 18.0], [19.0, 20.0]], [[21.0, 22.0], [23.0, 24.0]]]])\n",
    "\n",
    "# Appel de la fonction\n",
    "Kinterp_result = kernel_parts_interp_jx(NO1, NO2, Kgrid, b1,fz1,p1s, b2, fz2, p2s, fzGrid)\n",
    "\n",
    "print(Kinterp_result)\n"
   ]
  },
  {
   "cell_type": "code",
   "execution_count": null,
   "id": "86cd6279-3c5f-4276-a95a-b0891ab186e1",
   "metadata": {},
   "outputs": [],
   "source": [
    "Kgrid.shape "
   ]
  },
  {
   "cell_type": "code",
   "execution_count": null,
   "id": "f7f5442c-e6c4-48c1-b295-debbbc0b79d9",
   "metadata": {},
   "outputs": [],
   "source": [
    "Kgrid"
   ]
  },
  {
   "cell_type": "code",
   "execution_count": null,
   "id": "7289db02-30b2-4c44-a6a8-f6486734165e",
   "metadata": {},
   "outputs": [],
   "source": [
    "# Exemple d'utilisation\n",
    "NO1 = 10\n",
    "NC = 5\n",
    "NL = 3\n",
    "alpha_C = 0.1\n",
    "alpha_L = 0.2\n",
    "fcoefs_amp = jnp.ones((NO1, NC))\n",
    "fcoefs_mu = jnp.ones((NO1, NC))\n",
    "fcoefs_sig = jnp.ones((NO1, NC))\n",
    "lines_mu = jnp.ones(NL)\n",
    "lines_sig = jnp.ones(NL)\n",
    "norms = jnp.ones(NO1)\n",
    "b1 = jnp.arange(NO1)\n",
    "fz1 = jnp.linspace(0.1, 1.0, NO1)\n",
    "grad_needed = True\n",
    "\n",
    "KC, KL, D_alpha_C, D_alpha_L = kernelparts_diag_jx(NO1, NC, NL, alpha_C, alpha_L, fcoefs_amp, fcoefs_mu, fcoefs_sig, \n",
    "                                                   lines_mu, lines_sig, norms, b1, fz1, grad_needed)\n",
    "\n",
    "print(\"KC:\", KC)\n",
    "print(\"KL:\", KL)\n",
    "print(\"D_alpha_C:\", D_alpha_C)\n",
    "print(\"D_alpha_L:\", D_alpha_L)\n"
   ]
  },
  {
   "cell_type": "code",
   "execution_count": null,
   "id": "4e2d082e-fd0a-49ec-a9cc-0f93e96451f4",
   "metadata": {},
   "outputs": [],
   "source": [
    "\n",
    "# Example usage\n",
    "NO1 = 10\n",
    "NO2 = 10\n",
    "NC = 5\n",
    "NL = 3\n",
    "alpha_C = 0.1\n",
    "alpha_L = 0.2\n",
    "fcoefs_amp = jnp.ones((NO1, NC))\n",
    "fcoefs_mu = jnp.ones((NO1, NC))\n",
    "fcoefs_sig = jnp.ones((NO1, NC))\n",
    "lines_mu = jnp.ones(NL)\n",
    "lines_sig = jnp.ones(NL)\n",
    "norms = jnp.ones(NO1)\n",
    "b1 = jnp.arange(NO1)\n",
    "fz1 = jnp.linspace(0.1, 1.0, NO1)\n",
    "b2 = jnp.arange(NO2)\n",
    "fz2 = jnp.linspace(0.1, 1.0, NO2)\n",
    "grad_needed = True\n",
    "\n",
    "KC, KL, D_alpha_C, D_alpha_L, D_alpha_z = kernelparts_jax(NO1, NO2, NC, NL, alpha_C, alpha_L, fcoefs_amp, fcoefs_mu, fcoefs_sig, \n",
    "                                                           lines_mu, lines_sig, norms, b1, fz1, b2, fz2, grad_needed)\n",
    "\n"
   ]
  },
  {
   "cell_type": "code",
   "execution_count": null,
   "id": "6e094d4d-a3f0-4417-984a-f372f1809003",
   "metadata": {},
   "outputs": [],
   "source": []
  }
 ],
 "metadata": {
  "kernelspec": {
   "display_name": "py311_rail",
   "language": "python",
   "name": "py311_rail"
  },
  "language_info": {
   "codemirror_mode": {
    "name": "ipython",
    "version": 3
   },
   "file_extension": ".py",
   "mimetype": "text/x-python",
   "name": "python",
   "nbconvert_exporter": "python",
   "pygments_lexer": "ipython3",
   "version": "3.11.10"
  }
 },
 "nbformat": 4,
 "nbformat_minor": 5
}
