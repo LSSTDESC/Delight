{
 "cells": [
  {
   "cell_type": "markdown",
   "id": "2e47eef6-53ac-4538-ae64-c61967eff508",
   "metadata": {},
   "source": [
    "# Test of function implemented in delight.utils_jx"
   ]
  },
  {
   "cell_type": "code",
   "execution_count": null,
   "id": "dc6a858a-f62e-426a-8bb9-50ba3c83dc0c",
   "metadata": {},
   "outputs": [],
   "source": [
    "from jax import jit\n",
    "import jax.numpy as jnp\n",
    "from delight.utils_jx import find_positions,bilininterp_precomputedbins,kernel_parts_interp_jax\n",
    "from delight.utils_jx import approx_flux_likelihood_jax, gauss_prob,gauss_lnprob,logsumexp,photoobj_evidences_marglnzell\n",
    "from delight.utils_jx import photoobj_lnpost_zgrid_margell,specobj_evidences_margell"
   ]
  },
  {
   "cell_type": "code",
   "execution_count": null,
   "id": "6b962694-96af-4f9b-a57e-4dc1fef4bb30",
   "metadata": {},
   "outputs": [],
   "source": [
    "from jax import vmap"
   ]
  },
  {
   "cell_type": "markdown",
   "id": "eb4750f9-9d62-4115-a43a-93c4370704d1",
   "metadata": {},
   "source": [
    "## find_positions"
   ]
  },
  {
   "cell_type": "code",
   "execution_count": null,
   "id": "abcd637a-53f2-4e57-99e2-d9d1e56de7e8",
   "metadata": {},
   "outputs": [],
   "source": [
    "# Exemple d'utilisation\n",
    "fz1 = jnp.array([0.5, 1.5, 2.5])\n",
    "fzGrid = jnp.array([0.0, 1.0, 2.0, 3.0])\n",
    "positions = find_positions(fz1, fzGrid)\n",
    "print(positions)"
   ]
  },
  {
   "cell_type": "markdown",
   "id": "a7e03bc8-31b8-4c88-9795-5ebbc4822a46",
   "metadata": {},
   "source": [
    "## bilininterp_precomputedbins"
   ]
  },
  {
   "cell_type": "code",
   "execution_count": null,
   "id": "b6bab371-cb7e-48ab-9655-2ea484d82b09",
   "metadata": {},
   "outputs": [],
   "source": [
    "# Example usage\n",
    "numBands = 3\n",
    "nobj = 2\n",
    "#numBands = jnp.array(3)  # Dimension statique\n",
    "#nobj = jnp.array(2)      # Dimension statique\n",
    "\n",
    "\n",
    "Kinterp = jnp.zeros((numBands, nobj))\n",
    "v1s = jnp.array([0.5, 1.5])\n",
    "v2s = jnp.array([0.5, 1.5])\n",
    "p1s = jnp.array([0, 1])\n",
    "p2s = jnp.array([0, 1])\n",
    "grid1 = jnp.array([0.0, 1.0, 2.0])\n",
    "grid2 = jnp.array([0.0, 1.0, 2.0])\n",
    "\n",
    "Kgrid = jnp.array([\n",
    "    [[1.0, 2.0], [3.0, 4.0]],\n",
    "    [[1.5, 2.5], [3.5, 4.5]],\n",
    "    [[2.0, 3.0], [4.0, 5.0]]\n",
    "])\n",
    "\n",
    "Kinterp = bilininterp_precomputedbins(numBands, nobj, Kinterp, v1s, v2s, p1s, p2s, grid1, grid2, Kgrid)\n",
    "print(Kinterp)"
   ]
  },
  {
   "cell_type": "markdown",
   "id": "ed821c19-7134-46f7-8bc3-59edb2ba2702",
   "metadata": {},
   "source": [
    "## kernel_parts_interp"
   ]
  },
  {
   "cell_type": "code",
   "execution_count": null,
   "id": "2349109a-20fe-4e88-bb09-c9c673eb8732",
   "metadata": {},
   "outputs": [],
   "source": [
    "from jax import random\n",
    "key = random.PRNGKey(758493)  # Random seed is explicit in JAX"
   ]
  },
  {
   "cell_type": "code",
   "execution_count": null,
   "id": "c5782f54-57f5-47d7-ab0e-3e25ebcbec48",
   "metadata": {},
   "outputs": [],
   "source": [
    "# Exemple d'input pour tester la fonction\n",
    "NO1 = 2\n",
    "NO2 = 2\n",
    "Kinterp = jnp.zeros((NO1, NO2))  # matrice de résultats d'interpolation\n",
    "b1 = jnp.array([0, 1])  # indices pour le premier indice de bande\n",
    "b2 = jnp.array([0, 1])  # indices pour le second indice de bande\n",
    "fz1 = jnp.array([0.5, 1.5])  # positions fz1\n",
    "fz2 = jnp.array([0.5, 1.5])  # positions fz2\n",
    "p1s = jnp.array([0, 1])  # indices p1 pour la grille fz1\n",
    "p2s = jnp.array([0, 1])  # indices p2 pour la grille fz2\n",
    "fzGrid = jnp.array([0.0, 1.0, 2.0])  # la grille fz\n",
    "\n",
    "# Kgrid est bien de 4 D : (numBands1, self.numBands2, nz1, nz2)\n",
    "\n",
    "\n",
    "#Kgrid = jnp.array([\n",
    "#    [[1.0, 2.0], [3.0, 4.0]],\n",
    "#    [[1.5, 2.5], [3.5, 4.5]],\n",
    "#    [[2.0, 3.0], [4.0, 5.0]]\n",
    "#])  # Kgrid avec dimensions nbands x ngridz1 x ngridz2\n",
    "\n",
    "Kgrid_flat  =  random.uniform(key, shape=(len(b1)*len(b2)*len(fz1)*len(fz2),))\n",
    "Kgrid = Kgrid_flat.reshape(len(b1),len(b2),len(fz1),len(fz2))\n",
    "\n",
    "Kgrid = jnp.array([[[[1.0, 2.0], [3.0, 4.0]], [[5.0, 6.0], [7.0, 8.0]]],\n",
    "                       [[[9.0, 10.0], [11.0, 12.0]], [[13.0, 14.0], [15.0, 16.0]]],\n",
    "                       [[[17.0, 18.0], [19.0, 20.0]], [[21.0, 22.0], [23.0, 24.0]]]])\n",
    "\n",
    "# Appel de la fonction\n",
    "Kinterp_result = kernel_parts_interp_jax(NO1, NO2, Kinterp, b1, b2, fz1, fz2, p1s, p2s, fzGrid, Kgrid)\n",
    "\n",
    "print(Kinterp_result)\n"
   ]
  },
  {
   "cell_type": "code",
   "execution_count": null,
   "id": "86cd6279-3c5f-4276-a95a-b0891ab186e1",
   "metadata": {},
   "outputs": [],
   "source": [
    "Kgrid.shape "
   ]
  },
  {
   "cell_type": "code",
   "execution_count": null,
   "id": "f7f5442c-e6c4-48c1-b295-debbbc0b79d9",
   "metadata": {},
   "outputs": [],
   "source": [
    "Kgrid"
   ]
  },
  {
   "cell_type": "markdown",
   "id": "9a5dd641-d7d8-417e-b8d5-64e2dc8a0c40",
   "metadata": {},
   "source": [
    "## test_approx_flux_likelihood_jax"
   ]
  },
  {
   "cell_type": "code",
   "execution_count": null,
   "id": "8f5b9b2d-c2df-4567-8d01-5ec8fa8e7089",
   "metadata": {},
   "outputs": [],
   "source": [
    "# Test de la fonction JAX\n",
    "def test_approx_flux_likelihood_jax():\n",
    "    nz = 2\n",
    "    nt = 2\n",
    "    nf = 3\n",
    "\n",
    "    # Données fictives pour les tests\n",
    "    f_obs = jnp.array([1.0, 2.0, 3.0])\n",
    "    f_obs_var = jnp.array([0.1, 0.2, 0.3])\n",
    "    f_mod = jnp.array([[[1.0, 2.0, 3.0], [4.0, 5.0, 6.0]], \n",
    "                       [[7.0, 8.0, 9.0], [10.0, 11.0, 12.0]]])\n",
    "    f_mod_covar = jnp.array([[[0.1, 0.2, 0.3], [0.4, 0.5, 0.6]], \n",
    "                             [[0.7, 0.8, 0.9], [1.0, 1.1, 1.2]]])\n",
    "    ell_hat = jnp.array([0.5, 1.0])\n",
    "    ell_var = jnp.array([0.1, 0.2])\n",
    "\n",
    "    result = approx_flux_likelihood_jax(f_obs, f_obs_var, f_mod, f_mod_covar, ell_hat, ell_var)\n",
    "\n",
    "    # Afficher le résultat\n",
    "    print(result)\n",
    "\n",
    "# Appliquer jit à la fonction\n",
    "approx_flux_likelihood_jax_jit = jit(approx_flux_likelihood_jax)\n",
    "\n",
    "\n",
    "    "
   ]
  },
  {
   "cell_type": "code",
   "execution_count": null,
   "id": "d36a4922-5561-420b-9e7a-ae31612046af",
   "metadata": {},
   "outputs": [],
   "source": [
    "test_approx_flux_likelihood_jax()"
   ]
  },
  {
   "cell_type": "markdown",
   "id": "5b5bc70c-2b11-4ece-969a-f627a22677ec",
   "metadata": {},
   "source": [
    "## test gaussian"
   ]
  },
  {
   "cell_type": "code",
   "execution_count": null,
   "id": "e45126ab-dba5-479c-bef5-addb45e118ea",
   "metadata": {},
   "outputs": [],
   "source": [
    "# Exemple d'utilisation des fonctions\n",
    "def test_gaussian():\n",
    "    x = 1.0\n",
    "    mu = 0.0\n",
    "    var = 1.0\n",
    "\n",
    "    # Probabilités gaussiennes\n",
    "    prob = gauss_prob(x, mu, var)\n",
    "    lnprob = gauss_lnprob(x, mu, var)\n",
    "\n",
    "    print(\"Gaussian probability:\", prob)\n",
    "    print(\"Log Gaussian probability:\", lnprob)\n",
    "\n",
    "def test_logsumexp():\n",
    "    arr = jnp.array([1.0, 2.0, 3.0])\n",
    "    lse = logsumexp(arr)\n",
    "    print(\"LogSumExp:\", lse)\n",
    "\n",
    "# Tester les fonctions\n",
    "test_gaussian()\n",
    "test_logsumexp()\n"
   ]
  },
  {
   "cell_type": "markdown",
   "id": "2fba891e-27a1-425f-82ca-c00cd37ce41c",
   "metadata": {},
   "source": [
    "## photoobj_evidences_marglnzell\n",
    "\n",
    "\n",
    "Quelque chose ne va pas !!!"
   ]
  },
  {
   "cell_type": "code",
   "execution_count": null,
   "id": "b4058413-313e-4b04-b5e9-31e1780f65e1",
   "metadata": {},
   "outputs": [],
   "source": [
    "# Exemple de test avec des données fictives\n",
    "nobj = 3\n",
    "numTypes = 2\n",
    "nz = 4\n",
    "nf = 5\n",
    "\n",
    "logevidences = jnp.zeros(nobj)\n",
    "alphas = jnp.array([0.5, 0.5])\n",
    "f_obs = jnp.ones((nobj, nf))\n",
    "f_obs_var = jnp.ones((nobj, nf)) * 0.1\n",
    "f_mod = jnp.ones((numTypes, nz, nf))\n",
    "z_grid_centers = jnp.array([0.1, 0.2, 0.3, 0.4])\n",
    "z_grid_sizes = jnp.array([0.1, 0.1, 0.1, 0.1])\n",
    "mu_ell = jnp.array([0.1, 0.2])\n",
    "mu_lnz = jnp.array([0.1, 0.2])\n",
    "var_ell = jnp.array([0.1, 0.2])\n",
    "var_lnz = jnp.array([0.1, 0.2])\n",
    "rho = jnp.array([0.5, 0.5])\n",
    "\n",
    "# Appel de la fonction jittée\n",
    "result = photoobj_evidences_marglnzell(\n",
    "    logevidences, alphas, nobj, numTypes, nz, nf,\n",
    "    f_obs, f_obs_var, f_mod, z_grid_centers,\n",
    "    z_grid_sizes, mu_ell, mu_lnz, var_ell, var_lnz, rho\n",
    ")\n",
    "\n",
    "print(result)\n"
   ]
  },
  {
   "cell_type": "markdown",
   "id": "8fca6d68-ca61-4f8d-866f-a9bcc1a63c68",
   "metadata": {},
   "source": [
    "## specobj_evidences_margell"
   ]
  },
  {
   "cell_type": "code",
   "execution_count": null,
   "id": "23713022-1ada-48c5-88af-38bb7324af74",
   "metadata": {},
   "outputs": [],
   "source": [
    "# Exemple de test avec des données fictives\n",
    "nobj = 3\n",
    "numTypes = 2\n",
    "nf = 5\n",
    "\n",
    "logevidences = jnp.zeros(nobj)\n",
    "alphas = jnp.array([0.5, 0.5])\n",
    "f_obs = jnp.ones((nobj, nf))\n",
    "f_obs_var = jnp.ones((nobj, nf)) * 0.1\n",
    "f_mod = jnp.ones((numTypes, nobj, nf))\n",
    "redshifts = jnp.array([0.1, 0.2, 0.3])\n",
    "mu_ell = jnp.array([0.1, 0.2])\n",
    "mu_lnz = jnp.array([0.1, 0.2])\n",
    "var_ell = jnp.array([0.1, 0.2])\n",
    "var_lnz = jnp.array([0.1, 0.2])\n",
    "rho = jnp.array([0.5, 0.5])\n",
    "\n",
    "# Appel de la fonction jittée\n",
    "result = specobj_evidences_margell(\n",
    "    logevidences, alphas, nobj, numTypes, nf,\n",
    "    f_obs, f_obs_var, f_mod, redshifts,\n",
    "    mu_ell, mu_lnz, var_ell, var_lnz, rho\n",
    ")\n",
    "\n",
    "print(result)"
   ]
  },
  {
   "cell_type": "code",
   "execution_count": null,
   "id": "da17f899-8a4d-4e64-85f8-d2cfaa03f091",
   "metadata": {},
   "outputs": [],
   "source": []
  },
  {
   "cell_type": "markdown",
   "id": "adf17b04-0196-474d-80b7-d35c9ef69f10",
   "metadata": {},
   "source": []
  },
  {
   "cell_type": "markdown",
   "id": "54637d5b-3bea-4af4-bdbe-a8411b50549e",
   "metadata": {},
   "source": [
    "## photoobj_lnpost_zgrid_margell"
   ]
  },
  {
   "cell_type": "code",
   "execution_count": null,
   "id": "b10ab410-17c2-4706-86de-18f3c22b79c7",
   "metadata": {},
   "outputs": [],
   "source": [
    "# Exemple de test avec des données fictives\n",
    "nobj = 3\n",
    "numTypes = 2\n",
    "nz = 5\n",
    "nf = 4\n",
    "\n",
    "lnpost = jnp.zeros((nobj, numTypes, nz))\n",
    "alphas = jnp.array([0.5, 0.5])\n",
    "f_obs = jnp.ones((nobj, nf))\n",
    "f_obs_var = jnp.ones((nobj, nf)) * 0.1\n",
    "f_mod = jnp.ones((numTypes, nz, nf))\n",
    "z_grid_centers = jnp.array([0.1, 0.2, 0.3, 0.4, 0.5])\n",
    "z_grid_sizes = jnp.ones(nz) * 0.1\n",
    "mu_ell = jnp.array([0.1, 0.2])\n",
    "mu_lnz = jnp.array([0.1, 0.2])\n",
    "var_ell = jnp.array([0.1, 0.2])\n",
    "var_lnz = jnp.array([0.1, 0.2])\n",
    "rho = jnp.array([0.5, 0.5])\n",
    "\n",
    "# Appel de la fonction jittée\n",
    "result = photoobj_lnpost_zgrid_margell(\n",
    "    lnpost, alphas, nobj, numTypes, nz, nf,\n",
    "    f_obs, f_obs_var, f_mod, z_grid_centers,\n",
    "    z_grid_sizes, mu_ell, mu_lnz, var_ell, var_lnz, rho\n",
    ")\n",
    "\n",
    "print(result)\n"
   ]
  },
  {
   "cell_type": "code",
   "execution_count": null,
   "id": "f37d68af-7dde-4823-ac8c-51927fb46076",
   "metadata": {},
   "outputs": [],
   "source": []
  }
 ],
 "metadata": {
  "kernelspec": {
   "display_name": "py311_rail",
   "language": "python",
   "name": "py311_rail"
  },
  "language_info": {
   "codemirror_mode": {
    "name": "ipython",
    "version": 3
   },
   "file_extension": ".py",
   "mimetype": "text/x-python",
   "name": "python",
   "nbconvert_exporter": "python",
   "pygments_lexer": "ipython3",
   "version": "3.11.10"
  }
 },
 "nbformat": 4,
 "nbformat_minor": 5
}
