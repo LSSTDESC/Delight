{
 "cells": [
  {
   "cell_type": "markdown",
   "id": "textblock1",
   "metadata": {
    "cell_marker": "\"\"\""
   },
   "source": [
    "# Introduction to Delight tutorials\n",
    "\n",
    "- creation date : 2024-10-24 (Sylvie Dagoret-Campagne)\n",
    "- last update :2024-10-31 : add hdf5 files"
   ]
  },
  {
   "cell_type": "markdown",
   "id": "ee39562b-d390-4190-ae10-e9f10bfeb5b7",
   "metadata": {},
   "source": [
    "## Very fist basic tutorial\n",
    "\n",
    "This tutorial has been originaly implemented by Boris Leidstedt \n",
    "(Last check 2024/10/24)"
   ]
  },
  {
   "cell_type": "markdown",
   "id": "31a53902-553e-4f61-a909-99a99ee976c5",
   "metadata": {},
   "source": [
    "- [First tutorial using SDSS filters](Tutorial-getting-started-with-Delight.ipynb)\n",
    "- [First tutorial using SDSS filters and generating hdf5 files](Tutorial-getting-started-with-Delight-hdf5.ipynb)"
   ]
  },
  {
   "cell_type": "markdown",
   "id": "ddf74311-0369-499a-adda-4b5b987160a0",
   "metadata": {},
   "source": [
    "## Similar tutorial with LSST filters and using rail interface\n",
    "\n",
    "Inspired from above tutorial the same approach is followed but using rail interfaces (Last check 2024/10/24)"
   ]
  },
  {
   "cell_type": "markdown",
   "id": "ef996eaf-b2b8-4a21-8436-c0c8a6a79954",
   "metadata": {},
   "source": [
    "- [Tutorial with LSST Filters](Tutorial_interfaces_rail-with-Delight.ipynb)\n",
    "\n",
    "- [Tutorial with LSST filters and generating h5 file](Tutorial_interfaces_rail-with-Delight-hdf5.ipynb)\n"
   ]
  },
  {
   "cell_type": "markdown",
   "id": "b9379156-5ead-4333-847a-a5e644a270ac",
   "metadata": {},
   "source": [
    "## Notebook for missing band\n",
    "Note this notebook is not working ==> To be debugged"
   ]
  },
  {
   "cell_type": "code",
   "execution_count": null,
   "id": "5fbfc47c-28b0-4c50-9ce3-eb8e6914f2f0",
   "metadata": {},
   "outputs": [],
   "source": [
    "#[Notebook to fill missing bands](../pre_executed/Example-filling-missing-bands.ipynb)"
   ]
  }
 ],
 "metadata": {
  "jupytext": {
   "cell_markers": "\"\"\""
  },
  "kernelspec": {
   "display_name": "Python 3 (ipykernel)",
   "language": "python",
   "name": "python3"
  },
  "language_info": {
   "codemirror_mode": {
    "name": "ipython",
    "version": 3
   },
   "file_extension": ".py",
   "mimetype": "text/x-python",
   "name": "python",
   "nbconvert_exporter": "python",
   "pygments_lexer": "ipython3",
   "version": "3.10.15"
  }
 },
 "nbformat": 4,
 "nbformat_minor": 5
}
